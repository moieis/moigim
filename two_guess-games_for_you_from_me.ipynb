{
 "cells": [
  {
   "cell_type": "markdown",
   "id": "571332e1",
   "metadata": {},
   "source": [
    "#                          Mohammed Eissa Alshari with 2 guess games ."
   ]
  },
  {
   "cell_type": "markdown",
   "id": "5fc79216",
   "metadata": {},
   "source": [
    "### I programmed two games, the first game, which is what you need, I used only the random function, and the                                        second game I programmed through the pywebio library !!"
   ]
  },
  {
   "cell_type": "markdown",
   "id": "c0c39017",
   "metadata": {},
   "source": [
    "### This is the first with simple code :"
   ]
  },
  {
   "cell_type": "code",
   "execution_count": null,
   "id": "c6f7a43b",
   "metadata": {
    "scrolled": true
   },
   "outputs": [],
   "source": [
    "import random\n",
    "\n",
    "def guessing_game():\n",
    "  # -no arguments on it !!\n",
    "  # -create by Moieis [mohammed eissa alshari]\n",
    "   pass\n",
    "n = random.randint(1, 99)\n",
    "def start():\n",
    "    try:\n",
    "      def tryy():\n",
    "           guess = int(input(\"Enter an integer from [1] to [99]: \"))\n",
    "           while n != \"guess\":\n",
    "               if guess < n:\n",
    "                   print(\"guess is low 📉 🙄 \\n\")\n",
    "                   guess = int(input(\"Enter an integer from [1] to [99]: \"))\n",
    "               elif guess > n:\n",
    "                   print(\"guess is high 📈 😳 \\n\")\n",
    "                   guess = int(input(\"Enter an integer from [1] to [99]: \"))\n",
    "               else:\n",
    "                   print(\"you guessed it ! 🎊🎉🎊\")\n",
    "                   break\n",
    "      tryy() \n",
    "    except:\n",
    "      print(\"please use ! numbers ! from [1] , [99]\")\n",
    "      start()\n",
    "        \n",
    "start()  "
   ]
  },
  {
   "cell_type": "markdown",
   "id": "995f998a",
   "metadata": {},
   "source": [
    "###    ⤵️⤵️⤵️"
   ]
  },
  {
   "cell_type": "markdown",
   "id": "8a33b9de",
   "metadata": {},
   "source": [
    "##  ! and this is the second guess game I programmed through the pywebio library !\n"
   ]
  },
  {
   "cell_type": "markdown",
   "id": "7b4c451c",
   "metadata": {},
   "source": [
    "### Some important information :"
   ]
  },
  {
   "cell_type": "markdown",
   "id": "facadd7d",
   "metadata": {},
   "source": [
    "- If pywebio modules not installed on your kernel , please PIP it on [ pip install pywebio ]\n",
    "\n",
    "- Run the code and give it permission if it asks to change the port, the page that will open when running \n",
    "\n",
    "- The game consists of two stages. If you want to shorten the time, I put at the bottom of this page two things for you to   print the guessed numbers, but if you want to try playing don't run the last line that has two print commands good luck\n",
    "- \n",
    "- If you get this error [SessionClosedException:] All you have to do is restart the kernel and try again.\n",
    "\n",
    "\n"
   ]
  },
  {
   "cell_type": "code",
   "execution_count": 1,
   "id": "12fc5d41",
   "metadata": {},
   "outputs": [],
   "source": [
    "#____________________________________ if you got erorr pip pywebio ______________________________________\n",
    " \n",
    "from pywebio.input import *\n",
    "from pywebio.output import toast,popup,put_image,put_buttons,put_markdown,put_grid,clear,use_scope,put_row,put_html,put_processbar,set_processbar,put_link,put_button\n",
    "import time\n",
    "import random as r\n",
    "\n",
    "\n",
    "\n",
    "\n",
    "\n",
    "#_________________________________________the random function_______________________________________________\n",
    "\n",
    "n = r.randint(1, 99)\n",
    "n1 = r.randint(1, 500)\n",
    "#   ____________________________________________________________________________________________________\n",
    "\n",
    "def end():\n",
    "    clear(scope='game2')\n",
    "    put_grid([[put_image('https://i.ibb.co/jLRv7mD/30be7d8d1f0e44f78dc7a26eff5ce45f.png', width='130', height='130'),None,None]])\n",
    "    time.sleep(2)\n",
    "    toast('You did it legendary',color=\"info\")\n",
    "    time.sleep(0.9)\n",
    "    put_grid([[None,put_html('''<img src=\"https://c.tenor.com/FMCDc-D7X68AAAAi/you-did-it-way-to-go.gif\" width=\"348\" height=\"366\" alt=\"You Did It Way To Go Sticker - You Did It Way To Go Medal Stickers\" style=\"max-width: 482px; background-color: unset; margin: 8px 17px;\">'''),None]])\n",
    "    put_grid([[None,put_html('''<style>.multicolortext {background-image: linear-gradient(to left, violet, indigo, purple, blue, yellow, orange, red);-webkit-background-clip: text;-moz-background-clip: text;background-clip: text;color: transparent;}</style>\n",
    "                <h1><span class=\"multicolortext\">* This part is the end of the guessing game programmed by moieis using pywebio for more details about me moieis click on [MOIEIS] * </span></h1>''') ,None]])\n",
    "    put_grid([[None,put_html('''<style>.multicolortext {background-image: linear-gradient(to left, violet, indigo, purple, blue);-webkit-background-clip: text;-moz-background-clip: text;background-clip: text;color: transparent;}</style>\n",
    "                <h4><span class=\"multicolortext\"> press here  </span></h4>''' ),None]])\n",
    "    put_grid([[None,put_link('MOIEIS',url='https://znap.link/MoiCbio',new_window=True),None]])\n",
    "\n",
    "def info():\n",
    "    popup(\"\",put_html('''<style> body {font-family: \"Brush Script MT\", cursive;}</style><h1 style=\"color:#E15D44;\">It's the best guessing game in the world you wonder why !? Simply because I created it</h1>''') )\n",
    "    time.sleep(3)\n",
    "    popup('',put_grid([[put_image('https://i.ibb.co/jLRv7mD/30be7d8d1f0e44f78dc7a26eff5ce45f.png',width='130',height='130'),\n",
    "                                        put_html('<style> body {font-family: \"Brush Script MT\", cursive;}</style><h1 style=\"color:#E15D44;\"> Created by moigim </h1>'),None]]))\n",
    "\n",
    "# __________________________________level (2) Game____________________________________________\n",
    "\n",
    "\n",
    "def level2():\n",
    "    clear(scope='game')\n",
    "    with use_scope(name='level2',clear=True):\n",
    "            put_grid([[put_image('https://i.ibb.co/jLRv7mD/30be7d8d1f0e44f78dc7a26eff5ce45f.png', width='130', height='130'),\n",
    "                       None, None]])\n",
    "            put_processbar('bar')\n",
    "            for i in range(1, 11):\n",
    "                set_processbar('bar', i / 10)\n",
    "                time.sleep(0.1)\n",
    "    clear(scope='level2')\n",
    "    with use_scope(name=\"level1_gif\"):\n",
    "         put_grid([[put_html(\"\"\"<style>body {font-family: 'Brush Script MT', cursive;}</style><h2 style=\"color:#D65076;\"> You have successfully passed the first level 🎊 🎉 </h2>\"\"\"), put_html('<img src=\"https://media3.giphy.com/media/BxalgosQzziEfW5Yde/giphy.gif?cid=6c09b952f9stwbyr8l2qpn9pnsq1ljxale0x72db6ssw2cdu&amp;rid=giphy.gif\" jsaction=\"load:XAeZkd;\" jsname=\"HiaYvf\" class=\"n3VNCb\" alt=\"Page 1374: Rachel 007 Numerology Corner Of Wealth | Lottery Post\" data-noaft=\"1\" style=\"width: 233px; height: 233px; margin: 0px;\">')]])\n",
    "         put_grid([[None, put_buttons(buttons=[dict(label='Next Level', color='dark', value=False),\n",
    "                                               ], onclick=[game2], scope='level1_gif'), None]])\n",
    "\n",
    "\n",
    "\n",
    "\n",
    "def game2():\n",
    "    clear('level1_gif')\n",
    "    with use_scope('game2', clear=True):\n",
    "        put_grid([[None, put_html(\n",
    "            '<img src=\"https://c.tenor.com/6Z_Duf7MBr0AAAAi/mokkapresti-monica-presti.gif\" width=\"193\" height=\"193\" alt=\"Mokkapresti Monica Presti Sticker - Mokkapresti Monica Presti Gif Art Stickers\" style=\"max-width: 514px; background-color: unset; margin: 8px 36.5px;\">'),\n",
    "                   None]])\n",
    "        put_grid([[None, put_html(\n",
    "            '<style> body {font-family: \"Brush Script MT\", cursive;}</style><h1 style=\"color:#955251;\"> The second level of the guessing game you can do it ! </h1>'),\n",
    "                   None]])\n",
    "        time.sleep(2)\n",
    "        put_grid([[put_markdown('''- In the second level, guess from [1] to [500] .\n",
    "                                      - Focus and put any random number in the beginning .\n",
    "                                      - If the number is less than the required number, a low will appear .\n",
    "                                      - If the number is greater than the required number, high will appear .\n",
    "                                      - The topic here seemed a little difficult, but we advise you to use the large numbers and then the small numbers in order to make it clear where the number is .''')]])\n",
    "\n",
    "        guess2 = input('', type=NUMBER, required=True )\n",
    "        if guess2 < n1:\n",
    "            toast('guess is low 📉 🙄 ', color=\"FFEA7F\")\n",
    "            game2()\n",
    "\n",
    "\n",
    "        elif guess2 > n1:\n",
    "            toast('guess is high 📈 😳  ', color=\"#B448C3\")\n",
    "            game2()\n",
    "        elif guess2 == n1:\n",
    "            end()\n",
    "#_________________________________________________________________________________________________________________\n",
    "            \n",
    "#_______________________________________________level (1) Game___________________________________________________\n",
    "def game():\n",
    "\n",
    "    clear(scope='start')\n",
    "    with use_scope('game', clear=True):\n",
    "        put_grid([[None, put_html('<img src=\"https://media3.giphy.com/avatars/LGW_U/IjkWeqO6c7Sc.gif\" jsaction=\"load:XAeZkd;\" jsname=\"HiaYvf\" class=\"n3VNCb\" alt=\"Guess Logo GIFs - Get the best GIF on GIPHY\" data-noaft=\"1\" style=\"width: 183px; height: 183px; margin: 0px;\">'),None]])\n",
    "        put_grid([[None,put_html('<style> body {font-family: \"Brush Script MT\", cursive;}</style><h1 style=\"color:#B565A7;\"> Welcome to the first level of the guessing game ! </h1>'),None]])\n",
    "        time.sleep(2)\n",
    "        put_grid([[put_markdown('''- In the first level, guess from [1] to [99] .\n",
    "                                    - Focus and put any random number in the beginning .\n",
    "                                    - If the number is less than the required number, a low will appear .\n",
    "                                    - If the number is greater than the required number, high will appear .''')]])\n",
    "\n",
    "    guess = input('', type=NUMBER, required=True)\n",
    "\n",
    "    if guess < n:\n",
    "        toast('guess is low 📉 🙄 ', color=\"FFEA7F\")\n",
    "        game()\n",
    "\n",
    "\n",
    "    elif guess > n:\n",
    "        toast('guess is high 📈 😳  ', color=\"#B448C3\")\n",
    "        game()\n",
    "    elif guess == n:\n",
    "        level2()\n",
    "\n",
    "#____________________________________________________________________________________________________________\n",
    "\n",
    "# __________________________________________start web from here_______________________________________________\n",
    "def start():\n",
    "\n",
    "       with use_scope('start', clear=True):\n",
    "           put_grid([[put_image('https://i.ibb.co/jLRv7mD/30be7d8d1f0e44f78dc7a26eff5ce45f.png', width='130', height='130'),put_grid([[None, put_html('''<style>.multicolortext {background-image: linear-gradient(to left, violet, indigo, green, blue, yellow, orange, red);-webkit-background-clip: text;-moz-background-clip: text;background-clip: text;color: transparent;}</style>\n",
    "                <h1><span class=\"multicolortext\">* number guessing game *</span></h1>'''),\n",
    "                      None]]),None]])\n",
    "           put_grid([[None, put_html(\n",
    "               '<img src=\"https://media0.giphy.com/media/1dNmMXC93zk9cHdT0V/source.gif\" jsaction=\"load:XAeZkd;\" jsname=\"HiaYvf\" class=\"n3VNCb\" alt=\"Outgrow Fashion Influencers\" data-noaft=\"1\" style=\"width: 283px; height: 283px; margin: 0px;\">'),\n",
    "                      None]])\n",
    "           time.sleep(1)\n",
    "           put_grid([[None,put_buttons(buttons=[dict(label='PLAY', color='success', value=False),\n",
    "                                      dict(label='what is this ?', color='info', value=False),\n",
    "                                      ], onclick=[game, info], scope='start'), None]])\n",
    "#_____________________________________________________________________________________________________________\n",
    "\n",
    "\n",
    "start() #<-_____________________________this the start game _____________________________\n",
    "\n",
    "\n",
    "\n",
    "\n",
    "\n",
    "\n",
    "\n"
   ]
  },
  {
   "cell_type": "markdown",
   "id": "21bc2984",
   "metadata": {},
   "source": [
    "###  - If you have encrypted the code and do not want to play, run the two print commands after running the game, even in the event that it takes you to the game directly, go back and take a look at the numbers !!!"
   ]
  },
  {
   "cell_type": "code",
   "execution_count": 2,
   "id": "d32aa286",
   "metadata": {},
   "outputs": [
    {
     "name": "stdout",
     "output_type": "stream",
     "text": [
      "Level 1 guess number : 11 \n",
      "\n",
      "  Level 2 guess number :131 \n"
     ]
    }
   ],
   "source": [
    "print(f'Level 1 guess number : {n} \\n\\n  Level 2 guess number :{n1} ')"
   ]
  },
  {
   "cell_type": "markdown",
   "id": "0e29cc1d",
   "metadata": {},
   "source": [
    "<h1>All of my social media accounts are here :</h1>\n",
    "\n",
    "<h2>- https://znap.link/MoiCbio</h2> "
   ]
  }
 ],
 "metadata": {
  "kernelspec": {
   "display_name": "Python 3 (ipykernel)",
   "language": "python",
   "name": "python3"
  },
  "language_info": {
   "codemirror_mode": {
    "name": "ipython",
    "version": 3
   },
   "file_extension": ".py",
   "mimetype": "text/x-python",
   "name": "python",
   "nbconvert_exporter": "python",
   "pygments_lexer": "ipython3",
   "version": "3.9.7"
  }
 },
 "nbformat": 4,
 "nbformat_minor": 5
}
